{
  "nbformat": 4,
  "nbformat_minor": 0,
  "metadata": {
    "colab": {
      "provenance": [],
      "include_colab_link": true
    },
    "kernelspec": {
      "name": "python3",
      "display_name": "Python 3"
    },
    "language_info": {
      "name": "python"
    }
  },
  "cells": [
    {
      "cell_type": "markdown",
      "metadata": {
        "id": "view-in-github",
        "colab_type": "text"
      },
      "source": [
        "<a href=\"https://colab.research.google.com/github/nazilaeshghi/from-rep/blob/main/Homework1_Zoomcamp_NazilaEshghi.ipynb\" target=\"_parent\"><img src=\"https://colab.research.google.com/assets/colab-badge.svg\" alt=\"Open In Colab\"/></a>"
      ]
    },
    {
      "cell_type": "code",
      "execution_count": 140,
      "metadata": {
        "id": "mcHFlBsTYEoB"
      },
      "outputs": [],
      "source": [
        "import pandas as pd\n",
        "import numpy as np"
      ]
    },
    {
      "cell_type": "code",
      "source": [
        "# Question 1. Pandas version\n",
        "pd.__version__"
      ],
      "metadata": {
        "colab": {
          "base_uri": "https://localhost:8080/",
          "height": 35
        },
        "id": "62nnliWmYWpE",
        "outputId": "f5d252dd-d6b5-4da1-f267-6e3984e003b9"
      },
      "execution_count": 141,
      "outputs": [
        {
          "output_type": "execute_result",
          "data": {
            "text/plain": [
              "'2.1.4'"
            ],
            "application/vnd.google.colaboratory.intrinsic+json": {
              "type": "string"
            }
          },
          "metadata": {},
          "execution_count": 141
        }
      ]
    },
    {
      "cell_type": "code",
      "source": [
        "laptops = pd.read_csv('laptops.csv')\n",
        "laptops.shape"
      ],
      "metadata": {
        "colab": {
          "base_uri": "https://localhost:8080/"
        },
        "id": "W9uDYLg3Y8qD",
        "outputId": "7a881206-6620-4471-c4a9-55aa3b8b360d"
      },
      "execution_count": 142,
      "outputs": [
        {
          "output_type": "execute_result",
          "data": {
            "text/plain": [
              "(2160, 12)"
            ]
          },
          "metadata": {},
          "execution_count": 142
        }
      ]
    },
    {
      "cell_type": "code",
      "source": [
        "# Question 2. Records count\n",
        "laptops.shape[0]"
      ],
      "metadata": {
        "colab": {
          "base_uri": "https://localhost:8080/"
        },
        "id": "xUwjxBdyc8PY",
        "outputId": "b04b1801-fcb1-4035-c213-3ef66880d130"
      },
      "execution_count": 143,
      "outputs": [
        {
          "output_type": "execute_result",
          "data": {
            "text/plain": [
              "2160"
            ]
          },
          "metadata": {},
          "execution_count": 143
        }
      ]
    },
    {
      "cell_type": "code",
      "source": [
        "laptops.head()"
      ],
      "metadata": {
        "id": "6qP41MgNPr17",
        "outputId": "5a8b3ada-3583-41e8-a0e7-b955c9bf326d",
        "colab": {
          "base_uri": "https://localhost:8080/",
          "height": 417
        }
      },
      "execution_count": 144,
      "outputs": [
        {
          "output_type": "execute_result",
          "data": {
            "text/plain": [
              "                                              Laptop Status   Brand  \\\n",
              "0  ASUS ExpertBook B1 B1502CBA-EJ0436X Intel Core...    New    Asus   \n",
              "1  Alurin Go Start Intel Celeron N4020/8GB/256GB ...    New  Alurin   \n",
              "2  ASUS ExpertBook B1 B1502CBA-EJ0424X Intel Core...    New    Asus   \n",
              "3  MSI Katana GF66 12UC-082XES Intel Core i7-1270...    New     MSI   \n",
              "4  HP 15S-FQ5085NS Intel Core i5-1235U/16GB/512GB...    New      HP   \n",
              "\n",
              "        Model            CPU  RAM  Storage Storage type       GPU  Screen  \\\n",
              "0  ExpertBook  Intel Core i5    8      512          SSD       NaN    15.6   \n",
              "1          Go  Intel Celeron    8      256          SSD       NaN    15.6   \n",
              "2  ExpertBook  Intel Core i3    8      256          SSD       NaN    15.6   \n",
              "3      Katana  Intel Core i7   16     1000          SSD  RTX 3050    15.6   \n",
              "4         15S  Intel Core i5   16      512          SSD       NaN    15.6   \n",
              "\n",
              "  Touch  Final Price  \n",
              "0    No      1009.00  \n",
              "1    No       299.00  \n",
              "2    No       789.00  \n",
              "3    No      1199.00  \n",
              "4    No       669.01  "
            ],
            "text/html": [
              "\n",
              "  <div id=\"df-710c3179-f0de-4867-a55c-91a4d69113c5\" class=\"colab-df-container\">\n",
              "    <div>\n",
              "<style scoped>\n",
              "    .dataframe tbody tr th:only-of-type {\n",
              "        vertical-align: middle;\n",
              "    }\n",
              "\n",
              "    .dataframe tbody tr th {\n",
              "        vertical-align: top;\n",
              "    }\n",
              "\n",
              "    .dataframe thead th {\n",
              "        text-align: right;\n",
              "    }\n",
              "</style>\n",
              "<table border=\"1\" class=\"dataframe\">\n",
              "  <thead>\n",
              "    <tr style=\"text-align: right;\">\n",
              "      <th></th>\n",
              "      <th>Laptop</th>\n",
              "      <th>Status</th>\n",
              "      <th>Brand</th>\n",
              "      <th>Model</th>\n",
              "      <th>CPU</th>\n",
              "      <th>RAM</th>\n",
              "      <th>Storage</th>\n",
              "      <th>Storage type</th>\n",
              "      <th>GPU</th>\n",
              "      <th>Screen</th>\n",
              "      <th>Touch</th>\n",
              "      <th>Final Price</th>\n",
              "    </tr>\n",
              "  </thead>\n",
              "  <tbody>\n",
              "    <tr>\n",
              "      <th>0</th>\n",
              "      <td>ASUS ExpertBook B1 B1502CBA-EJ0436X Intel Core...</td>\n",
              "      <td>New</td>\n",
              "      <td>Asus</td>\n",
              "      <td>ExpertBook</td>\n",
              "      <td>Intel Core i5</td>\n",
              "      <td>8</td>\n",
              "      <td>512</td>\n",
              "      <td>SSD</td>\n",
              "      <td>NaN</td>\n",
              "      <td>15.6</td>\n",
              "      <td>No</td>\n",
              "      <td>1009.00</td>\n",
              "    </tr>\n",
              "    <tr>\n",
              "      <th>1</th>\n",
              "      <td>Alurin Go Start Intel Celeron N4020/8GB/256GB ...</td>\n",
              "      <td>New</td>\n",
              "      <td>Alurin</td>\n",
              "      <td>Go</td>\n",
              "      <td>Intel Celeron</td>\n",
              "      <td>8</td>\n",
              "      <td>256</td>\n",
              "      <td>SSD</td>\n",
              "      <td>NaN</td>\n",
              "      <td>15.6</td>\n",
              "      <td>No</td>\n",
              "      <td>299.00</td>\n",
              "    </tr>\n",
              "    <tr>\n",
              "      <th>2</th>\n",
              "      <td>ASUS ExpertBook B1 B1502CBA-EJ0424X Intel Core...</td>\n",
              "      <td>New</td>\n",
              "      <td>Asus</td>\n",
              "      <td>ExpertBook</td>\n",
              "      <td>Intel Core i3</td>\n",
              "      <td>8</td>\n",
              "      <td>256</td>\n",
              "      <td>SSD</td>\n",
              "      <td>NaN</td>\n",
              "      <td>15.6</td>\n",
              "      <td>No</td>\n",
              "      <td>789.00</td>\n",
              "    </tr>\n",
              "    <tr>\n",
              "      <th>3</th>\n",
              "      <td>MSI Katana GF66 12UC-082XES Intel Core i7-1270...</td>\n",
              "      <td>New</td>\n",
              "      <td>MSI</td>\n",
              "      <td>Katana</td>\n",
              "      <td>Intel Core i7</td>\n",
              "      <td>16</td>\n",
              "      <td>1000</td>\n",
              "      <td>SSD</td>\n",
              "      <td>RTX 3050</td>\n",
              "      <td>15.6</td>\n",
              "      <td>No</td>\n",
              "      <td>1199.00</td>\n",
              "    </tr>\n",
              "    <tr>\n",
              "      <th>4</th>\n",
              "      <td>HP 15S-FQ5085NS Intel Core i5-1235U/16GB/512GB...</td>\n",
              "      <td>New</td>\n",
              "      <td>HP</td>\n",
              "      <td>15S</td>\n",
              "      <td>Intel Core i5</td>\n",
              "      <td>16</td>\n",
              "      <td>512</td>\n",
              "      <td>SSD</td>\n",
              "      <td>NaN</td>\n",
              "      <td>15.6</td>\n",
              "      <td>No</td>\n",
              "      <td>669.01</td>\n",
              "    </tr>\n",
              "  </tbody>\n",
              "</table>\n",
              "</div>\n",
              "    <div class=\"colab-df-buttons\">\n",
              "\n",
              "  <div class=\"colab-df-container\">\n",
              "    <button class=\"colab-df-convert\" onclick=\"convertToInteractive('df-710c3179-f0de-4867-a55c-91a4d69113c5')\"\n",
              "            title=\"Convert this dataframe to an interactive table.\"\n",
              "            style=\"display:none;\">\n",
              "\n",
              "  <svg xmlns=\"http://www.w3.org/2000/svg\" height=\"24px\" viewBox=\"0 -960 960 960\">\n",
              "    <path d=\"M120-120v-720h720v720H120Zm60-500h600v-160H180v160Zm220 220h160v-160H400v160Zm0 220h160v-160H400v160ZM180-400h160v-160H180v160Zm440 0h160v-160H620v160ZM180-180h160v-160H180v160Zm440 0h160v-160H620v160Z\"/>\n",
              "  </svg>\n",
              "    </button>\n",
              "\n",
              "  <style>\n",
              "    .colab-df-container {\n",
              "      display:flex;\n",
              "      gap: 12px;\n",
              "    }\n",
              "\n",
              "    .colab-df-convert {\n",
              "      background-color: #E8F0FE;\n",
              "      border: none;\n",
              "      border-radius: 50%;\n",
              "      cursor: pointer;\n",
              "      display: none;\n",
              "      fill: #1967D2;\n",
              "      height: 32px;\n",
              "      padding: 0 0 0 0;\n",
              "      width: 32px;\n",
              "    }\n",
              "\n",
              "    .colab-df-convert:hover {\n",
              "      background-color: #E2EBFA;\n",
              "      box-shadow: 0px 1px 2px rgba(60, 64, 67, 0.3), 0px 1px 3px 1px rgba(60, 64, 67, 0.15);\n",
              "      fill: #174EA6;\n",
              "    }\n",
              "\n",
              "    .colab-df-buttons div {\n",
              "      margin-bottom: 4px;\n",
              "    }\n",
              "\n",
              "    [theme=dark] .colab-df-convert {\n",
              "      background-color: #3B4455;\n",
              "      fill: #D2E3FC;\n",
              "    }\n",
              "\n",
              "    [theme=dark] .colab-df-convert:hover {\n",
              "      background-color: #434B5C;\n",
              "      box-shadow: 0px 1px 3px 1px rgba(0, 0, 0, 0.15);\n",
              "      filter: drop-shadow(0px 1px 2px rgba(0, 0, 0, 0.3));\n",
              "      fill: #FFFFFF;\n",
              "    }\n",
              "  </style>\n",
              "\n",
              "    <script>\n",
              "      const buttonEl =\n",
              "        document.querySelector('#df-710c3179-f0de-4867-a55c-91a4d69113c5 button.colab-df-convert');\n",
              "      buttonEl.style.display =\n",
              "        google.colab.kernel.accessAllowed ? 'block' : 'none';\n",
              "\n",
              "      async function convertToInteractive(key) {\n",
              "        const element = document.querySelector('#df-710c3179-f0de-4867-a55c-91a4d69113c5');\n",
              "        const dataTable =\n",
              "          await google.colab.kernel.invokeFunction('convertToInteractive',\n",
              "                                                    [key], {});\n",
              "        if (!dataTable) return;\n",
              "\n",
              "        const docLinkHtml = 'Like what you see? Visit the ' +\n",
              "          '<a target=\"_blank\" href=https://colab.research.google.com/notebooks/data_table.ipynb>data table notebook</a>'\n",
              "          + ' to learn more about interactive tables.';\n",
              "        element.innerHTML = '';\n",
              "        dataTable['output_type'] = 'display_data';\n",
              "        await google.colab.output.renderOutput(dataTable, element);\n",
              "        const docLink = document.createElement('div');\n",
              "        docLink.innerHTML = docLinkHtml;\n",
              "        element.appendChild(docLink);\n",
              "      }\n",
              "    </script>\n",
              "  </div>\n",
              "\n",
              "\n",
              "<div id=\"df-6812a16a-ce68-4adc-a5d8-ffc7b8778b4a\">\n",
              "  <button class=\"colab-df-quickchart\" onclick=\"quickchart('df-6812a16a-ce68-4adc-a5d8-ffc7b8778b4a')\"\n",
              "            title=\"Suggest charts\"\n",
              "            style=\"display:none;\">\n",
              "\n",
              "<svg xmlns=\"http://www.w3.org/2000/svg\" height=\"24px\"viewBox=\"0 0 24 24\"\n",
              "     width=\"24px\">\n",
              "    <g>\n",
              "        <path d=\"M19 3H5c-1.1 0-2 .9-2 2v14c0 1.1.9 2 2 2h14c1.1 0 2-.9 2-2V5c0-1.1-.9-2-2-2zM9 17H7v-7h2v7zm4 0h-2V7h2v10zm4 0h-2v-4h2v4z\"/>\n",
              "    </g>\n",
              "</svg>\n",
              "  </button>\n",
              "\n",
              "<style>\n",
              "  .colab-df-quickchart {\n",
              "      --bg-color: #E8F0FE;\n",
              "      --fill-color: #1967D2;\n",
              "      --hover-bg-color: #E2EBFA;\n",
              "      --hover-fill-color: #174EA6;\n",
              "      --disabled-fill-color: #AAA;\n",
              "      --disabled-bg-color: #DDD;\n",
              "  }\n",
              "\n",
              "  [theme=dark] .colab-df-quickchart {\n",
              "      --bg-color: #3B4455;\n",
              "      --fill-color: #D2E3FC;\n",
              "      --hover-bg-color: #434B5C;\n",
              "      --hover-fill-color: #FFFFFF;\n",
              "      --disabled-bg-color: #3B4455;\n",
              "      --disabled-fill-color: #666;\n",
              "  }\n",
              "\n",
              "  .colab-df-quickchart {\n",
              "    background-color: var(--bg-color);\n",
              "    border: none;\n",
              "    border-radius: 50%;\n",
              "    cursor: pointer;\n",
              "    display: none;\n",
              "    fill: var(--fill-color);\n",
              "    height: 32px;\n",
              "    padding: 0;\n",
              "    width: 32px;\n",
              "  }\n",
              "\n",
              "  .colab-df-quickchart:hover {\n",
              "    background-color: var(--hover-bg-color);\n",
              "    box-shadow: 0 1px 2px rgba(60, 64, 67, 0.3), 0 1px 3px 1px rgba(60, 64, 67, 0.15);\n",
              "    fill: var(--button-hover-fill-color);\n",
              "  }\n",
              "\n",
              "  .colab-df-quickchart-complete:disabled,\n",
              "  .colab-df-quickchart-complete:disabled:hover {\n",
              "    background-color: var(--disabled-bg-color);\n",
              "    fill: var(--disabled-fill-color);\n",
              "    box-shadow: none;\n",
              "  }\n",
              "\n",
              "  .colab-df-spinner {\n",
              "    border: 2px solid var(--fill-color);\n",
              "    border-color: transparent;\n",
              "    border-bottom-color: var(--fill-color);\n",
              "    animation:\n",
              "      spin 1s steps(1) infinite;\n",
              "  }\n",
              "\n",
              "  @keyframes spin {\n",
              "    0% {\n",
              "      border-color: transparent;\n",
              "      border-bottom-color: var(--fill-color);\n",
              "      border-left-color: var(--fill-color);\n",
              "    }\n",
              "    20% {\n",
              "      border-color: transparent;\n",
              "      border-left-color: var(--fill-color);\n",
              "      border-top-color: var(--fill-color);\n",
              "    }\n",
              "    30% {\n",
              "      border-color: transparent;\n",
              "      border-left-color: var(--fill-color);\n",
              "      border-top-color: var(--fill-color);\n",
              "      border-right-color: var(--fill-color);\n",
              "    }\n",
              "    40% {\n",
              "      border-color: transparent;\n",
              "      border-right-color: var(--fill-color);\n",
              "      border-top-color: var(--fill-color);\n",
              "    }\n",
              "    60% {\n",
              "      border-color: transparent;\n",
              "      border-right-color: var(--fill-color);\n",
              "    }\n",
              "    80% {\n",
              "      border-color: transparent;\n",
              "      border-right-color: var(--fill-color);\n",
              "      border-bottom-color: var(--fill-color);\n",
              "    }\n",
              "    90% {\n",
              "      border-color: transparent;\n",
              "      border-bottom-color: var(--fill-color);\n",
              "    }\n",
              "  }\n",
              "</style>\n",
              "\n",
              "  <script>\n",
              "    async function quickchart(key) {\n",
              "      const quickchartButtonEl =\n",
              "        document.querySelector('#' + key + ' button');\n",
              "      quickchartButtonEl.disabled = true;  // To prevent multiple clicks.\n",
              "      quickchartButtonEl.classList.add('colab-df-spinner');\n",
              "      try {\n",
              "        const charts = await google.colab.kernel.invokeFunction(\n",
              "            'suggestCharts', [key], {});\n",
              "      } catch (error) {\n",
              "        console.error('Error during call to suggestCharts:', error);\n",
              "      }\n",
              "      quickchartButtonEl.classList.remove('colab-df-spinner');\n",
              "      quickchartButtonEl.classList.add('colab-df-quickchart-complete');\n",
              "    }\n",
              "    (() => {\n",
              "      let quickchartButtonEl =\n",
              "        document.querySelector('#df-6812a16a-ce68-4adc-a5d8-ffc7b8778b4a button');\n",
              "      quickchartButtonEl.style.display =\n",
              "        google.colab.kernel.accessAllowed ? 'block' : 'none';\n",
              "    })();\n",
              "  </script>\n",
              "</div>\n",
              "\n",
              "    </div>\n",
              "  </div>\n"
            ],
            "application/vnd.google.colaboratory.intrinsic+json": {
              "type": "dataframe",
              "variable_name": "laptops",
              "summary": "{\n  \"name\": \"laptops\",\n  \"rows\": 2160,\n  \"fields\": [\n    {\n      \"column\": \"Laptop\",\n      \"properties\": {\n        \"dtype\": \"string\",\n        \"num_unique_values\": 2160,\n        \"samples\": [\n          \"MSI Modern 15 A11SBU-620XES Intel Core i7-1165G7/32GB/1TB SSD/MX450/15.6\\\"\",\n          \"Thomson Neo White Intel Celeron N4020/4GB/64GB eMMC/14.1\\\"\",\n          \"MSI Modern 14 B11SB-420XES Intel Core i7-1165G7/32GB/1TB SSD/MX450/14\\\"\"\n        ],\n        \"semantic_type\": \"\",\n        \"description\": \"\"\n      }\n    },\n    {\n      \"column\": \"Status\",\n      \"properties\": {\n        \"dtype\": \"category\",\n        \"num_unique_values\": 2,\n        \"samples\": [\n          \"Refurbished\",\n          \"New\"\n        ],\n        \"semantic_type\": \"\",\n        \"description\": \"\"\n      }\n    },\n    {\n      \"column\": \"Brand\",\n      \"properties\": {\n        \"dtype\": \"category\",\n        \"num_unique_values\": 27,\n        \"samples\": [\n          \"Razer\",\n          \"PcCom\"\n        ],\n        \"semantic_type\": \"\",\n        \"description\": \"\"\n      }\n    },\n    {\n      \"column\": \"Model\",\n      \"properties\": {\n        \"dtype\": \"category\",\n        \"num_unique_values\": 121,\n        \"samples\": [\n          \"Aero\",\n          \"Erazer\"\n        ],\n        \"semantic_type\": \"\",\n        \"description\": \"\"\n      }\n    },\n    {\n      \"column\": \"CPU\",\n      \"properties\": {\n        \"dtype\": \"category\",\n        \"num_unique_values\": 28,\n        \"samples\": [\n          \"Apple M2\",\n          \"AMD 3015Ce\"\n        ],\n        \"semantic_type\": \"\",\n        \"description\": \"\"\n      }\n    },\n    {\n      \"column\": \"RAM\",\n      \"properties\": {\n        \"dtype\": \"number\",\n        \"std\": 9,\n        \"min\": 4,\n        \"max\": 128,\n        \"num_unique_values\": 9,\n        \"samples\": [\n          6,\n          16\n        ],\n        \"semantic_type\": \"\",\n        \"description\": \"\"\n      }\n    },\n    {\n      \"column\": \"Storage\",\n      \"properties\": {\n        \"dtype\": \"number\",\n        \"std\": 361,\n        \"min\": 0,\n        \"max\": 4000,\n        \"num_unique_values\": 12,\n        \"samples\": [\n          3000,\n          4000\n        ],\n        \"semantic_type\": \"\",\n        \"description\": \"\"\n      }\n    },\n    {\n      \"column\": \"Storage type\",\n      \"properties\": {\n        \"dtype\": \"category\",\n        \"num_unique_values\": 2,\n        \"samples\": [\n          \"eMMC\",\n          \"SSD\"\n        ],\n        \"semantic_type\": \"\",\n        \"description\": \"\"\n      }\n    },\n    {\n      \"column\": \"GPU\",\n      \"properties\": {\n        \"dtype\": \"category\",\n        \"num_unique_values\": 44,\n        \"samples\": [\n          \"RTX 2080\",\n          \"Radeon Pro 5500M\"\n        ],\n        \"semantic_type\": \"\",\n        \"description\": \"\"\n      }\n    },\n    {\n      \"column\": \"Screen\",\n      \"properties\": {\n        \"dtype\": \"number\",\n        \"std\": 1.2033287583284522,\n        \"min\": 10.1,\n        \"max\": 18.0,\n        \"num_unique_values\": 29,\n        \"samples\": [\n          12.0,\n          16.2\n        ],\n        \"semantic_type\": \"\",\n        \"description\": \"\"\n      }\n    },\n    {\n      \"column\": \"Touch\",\n      \"properties\": {\n        \"dtype\": \"category\",\n        \"num_unique_values\": 2,\n        \"samples\": [\n          \"Yes\",\n          \"No\"\n        ],\n        \"semantic_type\": \"\",\n        \"description\": \"\"\n      }\n    },\n    {\n      \"column\": \"Final Price\",\n      \"properties\": {\n        \"dtype\": \"number\",\n        \"std\": 911.4754170328515,\n        \"min\": 201.05,\n        \"max\": 7150.47,\n        \"num_unique_values\": 1440,\n        \"samples\": [\n          3599.0,\n          1799.9\n        ],\n        \"semantic_type\": \"\",\n        \"description\": \"\"\n      }\n    }\n  ]\n}"
            }
          },
          "metadata": {},
          "execution_count": 144
        }
      ]
    },
    {
      "cell_type": "code",
      "source": [
        "laptops.Brand.unique()"
      ],
      "metadata": {
        "colab": {
          "base_uri": "https://localhost:8080/"
        },
        "id": "GYOUDPOjcyyT",
        "outputId": "5de76d8e-6232-47c4-c5b2-354d0bf5caaa"
      },
      "execution_count": 145,
      "outputs": [
        {
          "output_type": "execute_result",
          "data": {
            "text/plain": [
              "array(['Asus', 'Alurin', 'MSI', 'HP', 'Lenovo', 'Medion', 'Acer', 'Apple',\n",
              "       'Razer', 'Gigabyte', 'Dell', 'LG', 'Samsung', 'PcCom', 'Microsoft',\n",
              "       'Primux', 'Prixton', 'Dynabook Toshiba', 'Thomson', 'Denver',\n",
              "       'Deep Gaming', 'Vant', 'Innjoo', 'Jetwing', 'Millenium', 'Realme',\n",
              "       'Toshiba'], dtype=object)"
            ]
          },
          "metadata": {},
          "execution_count": 145
        }
      ]
    },
    {
      "cell_type": "code",
      "source": [
        "# Question 3. Laptop brands\n",
        "len(laptops.Brand.unique())\n"
      ],
      "metadata": {
        "colab": {
          "base_uri": "https://localhost:8080/"
        },
        "id": "uJl4Nv0YjMJF",
        "outputId": "c5467e25-e311-4794-af6a-b1ee539b4922"
      },
      "execution_count": 146,
      "outputs": [
        {
          "output_type": "execute_result",
          "data": {
            "text/plain": [
              "27"
            ]
          },
          "metadata": {},
          "execution_count": 146
        }
      ]
    },
    {
      "cell_type": "code",
      "source": [
        "laptops.isnull().sum()"
      ],
      "metadata": {
        "colab": {
          "base_uri": "https://localhost:8080/",
          "height": 460
        },
        "id": "H18lziNnZ4-j",
        "outputId": "d4cb3bc4-4934-4821-a91e-2c4cbc073f4e"
      },
      "execution_count": 147,
      "outputs": [
        {
          "output_type": "execute_result",
          "data": {
            "text/plain": [
              "Laptop             0\n",
              "Status             0\n",
              "Brand              0\n",
              "Model              0\n",
              "CPU                0\n",
              "RAM                0\n",
              "Storage            0\n",
              "Storage type      42\n",
              "GPU             1371\n",
              "Screen             4\n",
              "Touch              0\n",
              "Final Price        0\n",
              "dtype: int64"
            ],
            "text/html": [
              "<div>\n",
              "<style scoped>\n",
              "    .dataframe tbody tr th:only-of-type {\n",
              "        vertical-align: middle;\n",
              "    }\n",
              "\n",
              "    .dataframe tbody tr th {\n",
              "        vertical-align: top;\n",
              "    }\n",
              "\n",
              "    .dataframe thead th {\n",
              "        text-align: right;\n",
              "    }\n",
              "</style>\n",
              "<table border=\"1\" class=\"dataframe\">\n",
              "  <thead>\n",
              "    <tr style=\"text-align: right;\">\n",
              "      <th></th>\n",
              "      <th>0</th>\n",
              "    </tr>\n",
              "  </thead>\n",
              "  <tbody>\n",
              "    <tr>\n",
              "      <th>Laptop</th>\n",
              "      <td>0</td>\n",
              "    </tr>\n",
              "    <tr>\n",
              "      <th>Status</th>\n",
              "      <td>0</td>\n",
              "    </tr>\n",
              "    <tr>\n",
              "      <th>Brand</th>\n",
              "      <td>0</td>\n",
              "    </tr>\n",
              "    <tr>\n",
              "      <th>Model</th>\n",
              "      <td>0</td>\n",
              "    </tr>\n",
              "    <tr>\n",
              "      <th>CPU</th>\n",
              "      <td>0</td>\n",
              "    </tr>\n",
              "    <tr>\n",
              "      <th>RAM</th>\n",
              "      <td>0</td>\n",
              "    </tr>\n",
              "    <tr>\n",
              "      <th>Storage</th>\n",
              "      <td>0</td>\n",
              "    </tr>\n",
              "    <tr>\n",
              "      <th>Storage type</th>\n",
              "      <td>42</td>\n",
              "    </tr>\n",
              "    <tr>\n",
              "      <th>GPU</th>\n",
              "      <td>1371</td>\n",
              "    </tr>\n",
              "    <tr>\n",
              "      <th>Screen</th>\n",
              "      <td>4</td>\n",
              "    </tr>\n",
              "    <tr>\n",
              "      <th>Touch</th>\n",
              "      <td>0</td>\n",
              "    </tr>\n",
              "    <tr>\n",
              "      <th>Final Price</th>\n",
              "      <td>0</td>\n",
              "    </tr>\n",
              "  </tbody>\n",
              "</table>\n",
              "</div><br><label><b>dtype:</b> int64</label>"
            ]
          },
          "metadata": {},
          "execution_count": 147
        }
      ]
    },
    {
      "cell_type": "code",
      "source": [
        "# Question 4. Missing values\n",
        "sum(laptops.isnull().any())"
      ],
      "metadata": {
        "colab": {
          "base_uri": "https://localhost:8080/"
        },
        "id": "S4lMz-yedpiN",
        "outputId": "e1ee3e95-7bad-4e72-f525-f6ebdd189c66"
      },
      "execution_count": 148,
      "outputs": [
        {
          "output_type": "execute_result",
          "data": {
            "text/plain": [
              "3"
            ]
          },
          "metadata": {},
          "execution_count": 148
        }
      ]
    },
    {
      "cell_type": "code",
      "source": [
        "for column in laptops.columns:\n",
        "    if laptops[column].isnull().any():\n",
        "        print(f\"Column '{column}' has missing values at index:\")\n",
        "        print(laptops[laptops[column].isnull()].index.tolist())"
      ],
      "metadata": {
        "colab": {
          "base_uri": "https://localhost:8080/"
        },
        "id": "qpxFwOPgflYg",
        "outputId": "f91031dd-6dd3-4974-9745-4a4e38c2bc5e"
      },
      "execution_count": 149,
      "outputs": [
        {
          "output_type": "stream",
          "name": "stdout",
          "text": [
            "Column 'Storage type' has missing values at index:\n",
            "[145, 189, 260, 477, 493, 569, 581, 600, 654, 728, 731, 747, 787, 843, 875, 927, 931, 945, 1013, 1085, 1104, 1131, 1132, 1145, 1146, 1167, 1173, 1174, 1209, 1452, 1571, 1574, 1587, 1612, 1643, 1644, 1661, 1662, 1742, 1743, 1896, 2133]\n",
            "Column 'GPU' has missing values at index:\n",
            "[0, 1, 2, 4, 6, 7, 8, 10, 13, 14, 15, 16, 17, 18, 21, 22, 24, 26, 28, 29, 30, 32, 33, 37, 38, 39, 41, 42, 44, 45, 48, 49, 50, 51, 54, 56, 58, 59, 60, 61, 62, 64, 65, 67, 69, 73, 74, 75, 77, 78, 80, 82, 83, 85, 86, 88, 89, 90, 92, 93, 94, 95, 96, 97, 99, 101, 102, 103, 104, 105, 107, 108, 109, 110, 111, 112, 113, 114, 115, 117, 118, 119, 120, 121, 122, 123, 124, 126, 128, 130, 131, 133, 135, 136, 138, 139, 140, 143, 144, 145, 147, 148, 149, 151, 154, 155, 158, 160, 161, 162, 167, 168, 170, 171, 172, 174, 175, 176, 178, 180, 181, 182, 184, 186, 187, 188, 189, 190, 191, 193, 196, 197, 198, 200, 201, 202, 205, 210, 211, 212, 213, 215, 216, 219, 222, 224, 225, 228, 229, 230, 231, 232, 233, 236, 237, 238, 239, 240, 244, 245, 246, 248, 251, 252, 255, 257, 258, 261, 262, 263, 264, 267, 268, 270, 271, 272, 276, 277, 278, 279, 280, 281, 283, 285, 287, 289, 291, 293, 294, 295, 297, 298, 299, 300, 301, 302, 303, 305, 308, 309, 310, 314, 315, 316, 317, 319, 320, 322, 323, 324, 325, 328, 329, 331, 332, 335, 337, 339, 341, 342, 343, 344, 349, 352, 354, 355, 357, 360, 362, 363, 364, 365, 366, 367, 368, 370, 371, 372, 373, 376, 380, 381, 384, 385, 387, 389, 395, 397, 400, 401, 402, 403, 404, 409, 411, 412, 416, 418, 421, 424, 425, 426, 427, 430, 432, 433, 434, 435, 436, 439, 441, 442, 445, 447, 449, 450, 451, 452, 454, 455, 456, 457, 458, 460, 467, 469, 477, 479, 480, 482, 483, 488, 489, 493, 497, 500, 501, 502, 503, 505, 506, 507, 508, 509, 510, 511, 514, 515, 517, 518, 519, 520, 521, 522, 523, 527, 528, 529, 531, 532, 533, 535, 538, 540, 541, 542, 543, 545, 546, 547, 549, 552, 553, 554, 555, 556, 557, 558, 559, 560, 561, 562, 564, 565, 566, 569, 570, 572, 573, 574, 575, 577, 578, 579, 581, 582, 583, 584, 587, 588, 590, 591, 592, 593, 594, 598, 600, 601, 603, 604, 610, 611, 612, 613, 614, 615, 617, 618, 619, 620, 621, 623, 624, 625, 626, 629, 631, 633, 634, 635, 636, 638, 640, 641, 647, 649, 650, 651, 652, 653, 654, 655, 656, 658, 659, 660, 661, 662, 663, 664, 665, 666, 667, 668, 669, 670, 671, 672, 674, 676, 677, 679, 680, 681, 682, 683, 684, 686, 688, 689, 690, 696, 697, 698, 703, 705, 706, 707, 708, 709, 710, 712, 713, 714, 715, 717, 718, 719, 720, 721, 722, 723, 724, 725, 726, 727, 728, 729, 731, 733, 734, 735, 736, 737, 738, 739, 740, 741, 742, 743, 744, 745, 752, 753, 754, 755, 756, 757, 758, 759, 761, 762, 764, 766, 767, 768, 769, 773, 775, 776, 777, 778, 780, 781, 782, 784, 785, 789, 790, 792, 793, 794, 796, 797, 798, 800, 801, 802, 803, 805, 807, 808, 809, 810, 811, 812, 813, 815, 817, 820, 822, 824, 825, 828, 829, 830, 831, 832, 833, 834, 835, 836, 837, 838, 839, 840, 841, 842, 843, 844, 846, 847, 848, 849, 850, 851, 852, 853, 855, 857, 859, 862, 863, 865, 866, 867, 868, 869, 870, 871, 872, 874, 875, 876, 878, 879, 881, 882, 883, 884, 885, 886, 889, 890, 891, 892, 893, 894, 895, 896, 897, 898, 899, 900, 901, 902, 904, 905, 907, 908, 909, 910, 913, 915, 919, 920, 921, 923, 925, 927, 928, 929, 930, 931, 933, 934, 935, 937, 938, 939, 942, 943, 944, 945, 946, 947, 948, 950, 951, 953, 954, 956, 957, 958, 959, 960, 961, 962, 963, 964, 968, 969, 971, 972, 973, 975, 976, 977, 978, 979, 980, 981, 984, 985, 987, 989, 990, 991, 994, 995, 997, 999, 1001, 1002, 1003, 1004, 1005, 1006, 1007, 1008, 1010, 1012, 1013, 1014, 1015, 1016, 1017, 1018, 1020, 1021, 1022, 1023, 1024, 1026, 1027, 1028, 1030, 1031, 1032, 1033, 1034, 1035, 1036, 1037, 1038, 1039, 1040, 1041, 1043, 1046, 1047, 1048, 1049, 1050, 1053, 1054, 1055, 1056, 1058, 1059, 1060, 1061, 1062, 1063, 1064, 1066, 1067, 1068, 1069, 1070, 1071, 1072, 1073, 1074, 1075, 1077, 1078, 1080, 1081, 1084, 1085, 1086, 1087, 1088, 1089, 1091, 1093, 1094, 1095, 1096, 1097, 1098, 1100, 1102, 1104, 1105, 1106, 1107, 1108, 1109, 1110, 1111, 1112, 1113, 1114, 1115, 1116, 1117, 1118, 1120, 1126, 1130, 1131, 1132, 1133, 1134, 1135, 1138, 1139, 1140, 1141, 1144, 1145, 1147, 1148, 1151, 1158, 1159, 1160, 1161, 1162, 1163, 1164, 1165, 1167, 1168, 1169, 1170, 1171, 1173, 1174, 1175, 1176, 1177, 1178, 1179, 1181, 1182, 1183, 1184, 1185, 1186, 1187, 1188, 1189, 1190, 1191, 1192, 1200, 1204, 1205, 1208, 1209, 1210, 1211, 1212, 1213, 1214, 1215, 1216, 1217, 1218, 1220, 1221, 1222, 1223, 1224, 1225, 1226, 1227, 1228, 1229, 1230, 1231, 1232, 1233, 1234, 1235, 1236, 1252, 1253, 1254, 1255, 1256, 1257, 1258, 1261, 1264, 1265, 1266, 1267, 1268, 1269, 1270, 1271, 1272, 1273, 1274, 1275, 1276, 1277, 1278, 1279, 1284, 1285, 1286, 1287, 1288, 1289, 1290, 1292, 1293, 1294, 1295, 1296, 1297, 1298, 1299, 1302, 1303, 1304, 1305, 1314, 1315, 1316, 1317, 1318, 1319, 1320, 1321, 1322, 1323, 1324, 1325, 1326, 1327, 1328, 1329, 1330, 1331, 1332, 1336, 1337, 1338, 1339, 1340, 1341, 1342, 1343, 1344, 1345, 1348, 1349, 1350, 1351, 1352, 1353, 1354, 1364, 1365, 1366, 1367, 1368, 1369, 1370, 1371, 1372, 1373, 1374, 1375, 1376, 1377, 1378, 1379, 1380, 1381, 1382, 1383, 1384, 1385, 1386, 1387, 1388, 1389, 1390, 1391, 1392, 1393, 1394, 1395, 1396, 1397, 1398, 1399, 1400, 1401, 1402, 1403, 1404, 1405, 1406, 1407, 1408, 1409, 1410, 1411, 1412, 1413, 1414, 1415, 1416, 1417, 1418, 1419, 1420, 1421, 1422, 1423, 1424, 1425, 1426, 1427, 1428, 1429, 1431, 1432, 1433, 1434, 1435, 1436, 1437, 1438, 1439, 1440, 1441, 1442, 1443, 1446, 1447, 1448, 1449, 1450, 1451, 1452, 1453, 1454, 1464, 1465, 1466, 1467, 1470, 1471, 1478, 1479, 1480, 1481, 1482, 1483, 1484, 1485, 1486, 1487, 1488, 1489, 1490, 1491, 1492, 1493, 1494, 1495, 1496, 1497, 1498, 1499, 1500, 1501, 1512, 1513, 1514, 1515, 1516, 1517, 1518, 1519, 1520, 1521, 1522, 1523, 1524, 1525, 1526, 1527, 1532, 1533, 1534, 1535, 1536, 1537, 1538, 1539, 1540, 1541, 1542, 1543, 1544, 1552, 1554, 1555, 1556, 1557, 1559, 1560, 1561, 1562, 1563, 1564, 1565, 1566, 1567, 1568, 1569, 1570, 1571, 1572, 1573, 1574, 1575, 1576, 1577, 1578, 1579, 1580, 1581, 1582, 1583, 1584, 1585, 1586, 1587, 1588, 1589, 1590, 1591, 1592, 1599, 1604, 1607, 1608, 1609, 1610, 1611, 1612, 1613, 1614, 1615, 1616, 1617, 1618, 1619, 1620, 1621, 1622, 1623, 1624, 1625, 1626, 1627, 1628, 1629, 1630, 1631, 1632, 1633, 1634, 1635, 1636, 1637, 1638, 1639, 1640, 1641, 1643, 1644, 1645, 1646, 1647, 1648, 1649, 1650, 1651, 1652, 1653, 1656, 1657, 1658, 1660, 1661, 1662, 1663, 1664, 1665, 1666, 1667, 1668, 1669, 1670, 1671, 1672, 1673, 1674, 1675, 1676, 1677, 1678, 1679, 1680, 1681, 1682, 1683, 1698, 1699, 1700, 1701, 1702, 1703, 1704, 1705, 1706, 1707, 1708, 1709, 1710, 1711, 1712, 1713, 1714, 1715, 1717, 1727, 1732, 1733, 1734, 1735, 1736, 1737, 1738, 1739, 1740, 1741, 1742, 1743, 1744, 1745, 1746, 1747, 1748, 1749, 1750, 1751, 1752, 1753, 1754, 1755, 1756, 1757, 1758, 1759, 1760, 1761, 1762, 1763, 1764, 1765, 1768, 1769, 1771, 1772, 1773, 1774, 1775, 1776, 1777, 1820, 1821, 1822, 1823, 1824, 1825, 1826, 1827, 1828, 1829, 1830, 1831, 1832, 1833, 1834, 1835, 1836, 1837, 1838, 1839, 1840, 1841, 1842, 1843, 1844, 1845, 1846, 1847, 1848, 1849, 1850, 1876, 1877, 1878, 1879, 1880, 1881, 1882, 1883, 1884, 1885, 1886, 1887, 1888, 1889, 1890, 1891, 1892, 1893, 1894, 1895, 1914, 1915, 1916, 1917, 1918, 1919, 1922, 1925, 1927, 1928, 1929, 1930, 1931, 1932, 1933, 1934, 1935, 1936, 1937, 1938, 1939, 1940, 1941, 1942, 1943, 1944, 1945, 1948, 1949, 1959, 1960, 1961, 1962, 1963, 1964, 1965, 1966, 1967, 1968, 1969, 1970, 1971, 1972, 1973, 1975, 1976, 1977, 1978, 1979, 1980, 1981, 1982, 1983, 1984, 1986, 1987, 1988, 1989, 1990, 1991, 1992, 1993, 1994, 1995, 1996, 1998, 2000, 2065, 2066, 2067, 2068, 2069, 2070, 2074, 2075, 2076, 2080, 2087, 2123, 2125, 2133, 2134, 2135, 2136, 2137, 2138, 2158, 2159]\n",
            "Column 'Screen' has missing values at index:\n",
            "[624, 1430, 1503, 1548]\n"
          ]
        }
      ]
    },
    {
      "cell_type": "code",
      "source": [
        "laptops['GPU'].isnull().any()"
      ],
      "metadata": {
        "colab": {
          "base_uri": "https://localhost:8080/"
        },
        "id": "8N1rqQKUf6Pa",
        "outputId": "416122d5-9406-4e39-f84e-19b9ef6cc493"
      },
      "execution_count": 150,
      "outputs": [
        {
          "output_type": "execute_result",
          "data": {
            "text/plain": [
              "True"
            ]
          },
          "metadata": {},
          "execution_count": 150
        }
      ]
    },
    {
      "cell_type": "code",
      "source": [
        "# Question 5. Maximum final price\n",
        "laptops[ laptops['Brand'] == 'Dell']['Final Price'].max()"
      ],
      "metadata": {
        "colab": {
          "base_uri": "https://localhost:8080/"
        },
        "id": "QGuq6QIwgYlS",
        "outputId": "6f782aa2-761f-48e2-abbd-52989a6a5ec6"
      },
      "execution_count": 151,
      "outputs": [
        {
          "output_type": "execute_result",
          "data": {
            "text/plain": [
              "3936.0"
            ]
          },
          "metadata": {},
          "execution_count": 151
        }
      ]
    },
    {
      "cell_type": "code",
      "source": [
        "laptops.loc[laptops['Final Price'].idxmax(), 'Brand']"
      ],
      "metadata": {
        "colab": {
          "base_uri": "https://localhost:8080/",
          "height": 35
        },
        "id": "N70QS-pHgqwS",
        "outputId": "d8c47f93-6007-42e9-a45e-23782f0d62d9"
      },
      "execution_count": 152,
      "outputs": [
        {
          "output_type": "execute_result",
          "data": {
            "text/plain": [
              "'MSI'"
            ],
            "application/vnd.google.colaboratory.intrinsic+json": {
              "type": "string"
            }
          },
          "metadata": {},
          "execution_count": 152
        }
      ]
    },
    {
      "cell_type": "code",
      "source": [
        "laptops.sort_values(by=['Final Price'], ascending=False)['Brand'].head(5).unique()"
      ],
      "metadata": {
        "colab": {
          "base_uri": "https://localhost:8080/"
        },
        "id": "RodCf1I3ho0j",
        "outputId": "975fd914-d3ec-4cdd-8567-af6884ed9ab3"
      },
      "execution_count": 153,
      "outputs": [
        {
          "output_type": "execute_result",
          "data": {
            "text/plain": [
              "array(['MSI', 'Asus', 'HP'], dtype=object)"
            ]
          },
          "metadata": {},
          "execution_count": 153
        }
      ]
    },
    {
      "cell_type": "code",
      "source": [
        "#Q6. Median value of Screen\n",
        "#Find the median value of Screen column in the dataset.\n",
        "#Next, calculate the most frequent value of the same Screen column.\n",
        "#Use fillna method to fill the missing values in Screen column with the most frequent value from the previous step.\n",
        "#Now, calculate the median value of Screen once again.\n",
        "#Has it changed?\n",
        "\n",
        "#Hint: refer to existing mode and median functions to complete the task."
      ],
      "metadata": {
        "id": "gVQy89crqgBv"
      },
      "execution_count": 154,
      "outputs": []
    },
    {
      "cell_type": "code",
      "source": [
        "# Question 6. Median value of Screen\n",
        "\n",
        "import pandas as pd\n",
        "\n",
        "# 1. Calculate initial median of 'Screen'\n",
        "initial_median = laptops['Screen'].median()\n",
        "print(f\"Initial median of 'Screen': {initial_median}\")\n",
        "\n",
        "# 2. Calculate most frequent value of 'Screen'\n",
        "most_frequent_screen = laptops['Screen'].mode()[0]  # [0] to get the first mode (in case of multiple modes)\n",
        "print(f\"Most frequent value of 'Screen': {most_frequent_screen}\")\n",
        "\n",
        "# 3. Fill missing values with the most frequent value\n",
        "laptops['Screen_filled'] = laptops['Screen'].fillna(most_frequent_screen)\n",
        "\n",
        "# 4. Calculate median after filling missing values\n",
        "median_after_filling = laptops['Screen_filled'].median()\n",
        "print(f\"Median after filling missing values: {median_after_filling}\")\n",
        "\n",
        "# 5. Check if the median has changed\n",
        "median_changed = initial_median != median_after_filling\n",
        "print(f\"Has the median changed? {median_changed}\")"
      ],
      "metadata": {
        "colab": {
          "base_uri": "https://localhost:8080/"
        },
        "id": "5vh_bCBFcmns",
        "outputId": "9eafb110-fb64-4497-b84d-19c1c9c1555d"
      },
      "execution_count": 155,
      "outputs": [
        {
          "output_type": "stream",
          "name": "stdout",
          "text": [
            "Initial median of 'Screen': 15.6\n",
            "Most frequent value of 'Screen': 15.6\n",
            "Median after filling missing values: 15.6\n",
            "Has the median changed? False\n"
          ]
        }
      ]
    },
    {
      "cell_type": "code",
      "source": [
        "innjoo_laptops = laptops[laptops['Brand'] == 'Innjoo'][['RAM', 'Storage', 'Screen']]\n",
        "X = innjoo_laptops.values\n",
        "X"
      ],
      "metadata": {
        "colab": {
          "base_uri": "https://localhost:8080/"
        },
        "id": "mXHkoz8qi_t1",
        "outputId": "be88c432-1e22-4845-e1c8-8512f8422d46"
      },
      "execution_count": 156,
      "outputs": [
        {
          "output_type": "execute_result",
          "data": {
            "text/plain": [
              "array([[  8. , 256. ,  15.6],\n",
              "       [  8. , 512. ,  15.6],\n",
              "       [  4. ,  64. ,  14.1],\n",
              "       [  6. ,  64. ,  14.1],\n",
              "       [  6. , 128. ,  14.1],\n",
              "       [  6. , 128. ,  14.1]])"
            ]
          },
          "metadata": {},
          "execution_count": 156
        }
      ]
    },
    {
      "cell_type": "code",
      "source": [
        "# Question 7. Sum of weights\n",
        "y = np.array([1100, 1300, 800, 900, 1000, 1100])\n",
        "\n",
        "XTX = X.T.dot(X)\n",
        "XTX_inv = np.linalg.inv(XTX)\n",
        "w = XTX_inv.dot(X.T).dot(y)\n",
        "np.sum(w)"
      ],
      "metadata": {
        "colab": {
          "base_uri": "https://localhost:8080/"
        },
        "id": "EksmfZM4NBaw",
        "outputId": "897b72ed-9c38-43ef-fd8e-c5f14420901c"
      },
      "execution_count": 157,
      "outputs": [
        {
          "output_type": "execute_result",
          "data": {
            "text/plain": [
              "91.2998806299555"
            ]
          },
          "metadata": {},
          "execution_count": 157
        }
      ]
    },
    {
      "cell_type": "code",
      "source": [
        "y.shape\n",
        "XTX.shape"
      ],
      "metadata": {
        "colab": {
          "base_uri": "https://localhost:8080/"
        },
        "id": "AfOTM2DuN4jJ",
        "outputId": "31f55ea0-6368-41d5-afd6-20ff29277655"
      },
      "execution_count": 158,
      "outputs": [
        {
          "output_type": "execute_result",
          "data": {
            "text/plain": [
              "(3, 3)"
            ]
          },
          "metadata": {},
          "execution_count": 158
        }
      ]
    }
  ]
}