{
  "cells": [
    {
      "cell_type": "markdown",
      "metadata": {
        "id": "view-in-github",
        "colab_type": "text"
      },
      "source": [
        "<a href=\"https://colab.research.google.com/github/nazilaeshghi/from-rep/blob/main/NazilaEshghi_Homework2_ML_zoomcamp_regression_laptops.ipynb\" target=\"_parent\"><img src=\"https://colab.research.google.com/assets/colab-badge.svg\" alt=\"Open In Colab\"/></a>"
      ]
    },
    {
      "cell_type": "markdown",
      "metadata": {
        "id": "BiAPwD1oypto"
      },
      "source": [
        "Creating a regression model to predict price of laptops"
      ]
    },
    {
      "cell_type": "markdown",
      "metadata": {
        "id": "ikVZiwutyRm4"
      },
      "source": [
        "## Load Data and Required Libraries\n",
        "In this homework, we will use the Laptops price dataset from Kaggle.\n",
        "\n",
        "Here's a wget-able [link](https://raw.githubusercontent.com/alexeygrigorev/datasets/master/laptops.csv):"
      ]
    },
    {
      "cell_type": "code",
      "execution_count": null,
      "metadata": {
        "id": "9ccDBxYwwqe8"
      },
      "outputs": [],
      "source": [
        "import pandas as pd\n",
        "import numpy as np\n",
        "\n",
        "import seaborn as sns\n",
        "from matplotlib import pyplot as plt\n",
        "%matplotlib inline"
      ]
    },
    {
      "cell_type": "code",
      "execution_count": null,
      "metadata": {
        "colab": {
          "base_uri": "https://localhost:8080/"
        },
        "id": "cVLM1Bivxb1I",
        "outputId": "5be62a6d-0bbe-4071-f099-7294ddec9133"
      },
      "outputs": [
        {
          "output_type": "stream",
          "name": "stdout",
          "text": [
            "--2024-10-08 15:32:49--  https://raw.githubusercontent.com/alexeygrigorev/datasets/master/laptops.csv\n",
            "Resolving raw.githubusercontent.com (raw.githubusercontent.com)... 185.199.108.133, 185.199.109.133, 185.199.110.133, ...\n",
            "Connecting to raw.githubusercontent.com (raw.githubusercontent.com)|185.199.108.133|:443... connected.\n",
            "HTTP request sent, awaiting response... 200 OK\n",
            "Length: 298573 (292K) [text/plain]\n",
            "Saving to: ‘laptops.csv’\n",
            "\n",
            "\rlaptops.csv           0%[                    ]       0  --.-KB/s               \rlaptops.csv         100%[===================>] 291.58K  --.-KB/s    in 0.04s   \n",
            "\n",
            "2024-10-08 15:32:49 (7.69 MB/s) - ‘laptops.csv’ saved [298573/298573]\n",
            "\n"
          ]
        }
      ],
      "source": [
        "!wget https://raw.githubusercontent.com/alexeygrigorev/datasets/master/laptops.csv\n"
      ]
    },
    {
      "cell_type": "code",
      "execution_count": null,
      "metadata": {
        "id": "yaLWHbkxxiUv"
      },
      "outputs": [],
      "source": [
        "# Load the dataframe.\n",
        "df = pd.read_csv('laptops.csv')"
      ]
    },
    {
      "cell_type": "markdown",
      "metadata": {
        "id": "KUrxJiylyY7v"
      },
      "source": [
        "## Preparing the dataset\n",
        "\n",
        "\n",
        "1.   Transforming the names of the columns to lowercase and put underlines instead of spaces\n",
        "2.   Extracting the columns ```ram```, ```storage```, ```screen```, ```final_price```\n",
        "3.\tLook at the final_price variable. Does it have a long tail?\n",
        "\n"
      ]
    },
    {
      "cell_type": "code",
      "execution_count": null,
      "metadata": {
        "colab": {
          "base_uri": "https://localhost:8080/"
        },
        "id": "8Bh23BtEx-tw",
        "outputId": "7aa47790-608e-42a1-c99e-0e90dcb21908"
      },
      "outputs": [
        {
          "output_type": "execute_result",
          "data": {
            "text/plain": [
              "Index(['laptop', 'status', 'brand', 'model', 'cpu', 'ram', 'storage',\n",
              "       'storage_type', 'gpu', 'screen', 'touch', 'final_price'],\n",
              "      dtype='object')"
            ]
          },
          "metadata": {},
          "execution_count": 4
        }
      ],
      "source": [
        "# Transforming the names of the columns to lowercase and put underlines instead of spaces\n",
        "df.columns = df.columns.str.lower().str.replace(' ', '_')\n",
        "df.columns"
      ]
    },
    {
      "cell_type": "code",
      "execution_count": null,
      "metadata": {
        "colab": {
          "base_uri": "https://localhost:8080/",
          "height": 423
        },
        "id": "jP8GJz4wzmUY",
        "outputId": "ca7c30c5-d7e9-4d91-83bb-61349e02e52a"
      },
      "outputs": [
        {
          "output_type": "execute_result",
          "data": {
            "text/plain": [
              "      ram  storage  screen  final_price\n",
              "0       8      512    15.6      1009.00\n",
              "1       8      256    15.6       299.00\n",
              "2       8      256    15.6       789.00\n",
              "3      16     1000    15.6      1199.00\n",
              "4      16      512    15.6       669.01\n",
              "...   ...      ...     ...          ...\n",
              "2155   16     1000    17.3      2699.99\n",
              "2156   16     1000    17.3      2899.99\n",
              "2157   32     1000    17.3      3399.99\n",
              "2158   16     1000    13.4      1899.99\n",
              "2159   16      256    13.4      1699.99\n",
              "\n",
              "[2160 rows x 4 columns]"
            ],
            "text/html": [
              "\n",
              "  <div id=\"df-a4ba0451-22a9-41cb-b1fb-1cdf6198cb82\" class=\"colab-df-container\">\n",
              "    <div>\n",
              "<style scoped>\n",
              "    .dataframe tbody tr th:only-of-type {\n",
              "        vertical-align: middle;\n",
              "    }\n",
              "\n",
              "    .dataframe tbody tr th {\n",
              "        vertical-align: top;\n",
              "    }\n",
              "\n",
              "    .dataframe thead th {\n",
              "        text-align: right;\n",
              "    }\n",
              "</style>\n",
              "<table border=\"1\" class=\"dataframe\">\n",
              "  <thead>\n",
              "    <tr style=\"text-align: right;\">\n",
              "      <th></th>\n",
              "      <th>ram</th>\n",
              "      <th>storage</th>\n",
              "      <th>screen</th>\n",
              "      <th>final_price</th>\n",
              "    </tr>\n",
              "  </thead>\n",
              "  <tbody>\n",
              "    <tr>\n",
              "      <th>0</th>\n",
              "      <td>8</td>\n",
              "      <td>512</td>\n",
              "      <td>15.6</td>\n",
              "      <td>1009.00</td>\n",
              "    </tr>\n",
              "    <tr>\n",
              "      <th>1</th>\n",
              "      <td>8</td>\n",
              "      <td>256</td>\n",
              "      <td>15.6</td>\n",
              "      <td>299.00</td>\n",
              "    </tr>\n",
              "    <tr>\n",
              "      <th>2</th>\n",
              "      <td>8</td>\n",
              "      <td>256</td>\n",
              "      <td>15.6</td>\n",
              "      <td>789.00</td>\n",
              "    </tr>\n",
              "    <tr>\n",
              "      <th>3</th>\n",
              "      <td>16</td>\n",
              "      <td>1000</td>\n",
              "      <td>15.6</td>\n",
              "      <td>1199.00</td>\n",
              "    </tr>\n",
              "    <tr>\n",
              "      <th>4</th>\n",
              "      <td>16</td>\n",
              "      <td>512</td>\n",
              "      <td>15.6</td>\n",
              "      <td>669.01</td>\n",
              "    </tr>\n",
              "    <tr>\n",
              "      <th>...</th>\n",
              "      <td>...</td>\n",
              "      <td>...</td>\n",
              "      <td>...</td>\n",
              "      <td>...</td>\n",
              "    </tr>\n",
              "    <tr>\n",
              "      <th>2155</th>\n",
              "      <td>16</td>\n",
              "      <td>1000</td>\n",
              "      <td>17.3</td>\n",
              "      <td>2699.99</td>\n",
              "    </tr>\n",
              "    <tr>\n",
              "      <th>2156</th>\n",
              "      <td>16</td>\n",
              "      <td>1000</td>\n",
              "      <td>17.3</td>\n",
              "      <td>2899.99</td>\n",
              "    </tr>\n",
              "    <tr>\n",
              "      <th>2157</th>\n",
              "      <td>32</td>\n",
              "      <td>1000</td>\n",
              "      <td>17.3</td>\n",
              "      <td>3399.99</td>\n",
              "    </tr>\n",
              "    <tr>\n",
              "      <th>2158</th>\n",
              "      <td>16</td>\n",
              "      <td>1000</td>\n",
              "      <td>13.4</td>\n",
              "      <td>1899.99</td>\n",
              "    </tr>\n",
              "    <tr>\n",
              "      <th>2159</th>\n",
              "      <td>16</td>\n",
              "      <td>256</td>\n",
              "      <td>13.4</td>\n",
              "      <td>1699.99</td>\n",
              "    </tr>\n",
              "  </tbody>\n",
              "</table>\n",
              "<p>2160 rows × 4 columns</p>\n",
              "</div>\n",
              "    <div class=\"colab-df-buttons\">\n",
              "\n",
              "  <div class=\"colab-df-container\">\n",
              "    <button class=\"colab-df-convert\" onclick=\"convertToInteractive('df-a4ba0451-22a9-41cb-b1fb-1cdf6198cb82')\"\n",
              "            title=\"Convert this dataframe to an interactive table.\"\n",
              "            style=\"display:none;\">\n",
              "\n",
              "  <svg xmlns=\"http://www.w3.org/2000/svg\" height=\"24px\" viewBox=\"0 -960 960 960\">\n",
              "    <path d=\"M120-120v-720h720v720H120Zm60-500h600v-160H180v160Zm220 220h160v-160H400v160Zm0 220h160v-160H400v160ZM180-400h160v-160H180v160Zm440 0h160v-160H620v160ZM180-180h160v-160H180v160Zm440 0h160v-160H620v160Z\"/>\n",
              "  </svg>\n",
              "    </button>\n",
              "\n",
              "  <style>\n",
              "    .colab-df-container {\n",
              "      display:flex;\n",
              "      gap: 12px;\n",
              "    }\n",
              "\n",
              "    .colab-df-convert {\n",
              "      background-color: #E8F0FE;\n",
              "      border: none;\n",
              "      border-radius: 50%;\n",
              "      cursor: pointer;\n",
              "      display: none;\n",
              "      fill: #1967D2;\n",
              "      height: 32px;\n",
              "      padding: 0 0 0 0;\n",
              "      width: 32px;\n",
              "    }\n",
              "\n",
              "    .colab-df-convert:hover {\n",
              "      background-color: #E2EBFA;\n",
              "      box-shadow: 0px 1px 2px rgba(60, 64, 67, 0.3), 0px 1px 3px 1px rgba(60, 64, 67, 0.15);\n",
              "      fill: #174EA6;\n",
              "    }\n",
              "\n",
              "    .colab-df-buttons div {\n",
              "      margin-bottom: 4px;\n",
              "    }\n",
              "\n",
              "    [theme=dark] .colab-df-convert {\n",
              "      background-color: #3B4455;\n",
              "      fill: #D2E3FC;\n",
              "    }\n",
              "\n",
              "    [theme=dark] .colab-df-convert:hover {\n",
              "      background-color: #434B5C;\n",
              "      box-shadow: 0px 1px 3px 1px rgba(0, 0, 0, 0.15);\n",
              "      filter: drop-shadow(0px 1px 2px rgba(0, 0, 0, 0.3));\n",
              "      fill: #FFFFFF;\n",
              "    }\n",
              "  </style>\n",
              "\n",
              "    <script>\n",
              "      const buttonEl =\n",
              "        document.querySelector('#df-a4ba0451-22a9-41cb-b1fb-1cdf6198cb82 button.colab-df-convert');\n",
              "      buttonEl.style.display =\n",
              "        google.colab.kernel.accessAllowed ? 'block' : 'none';\n",
              "\n",
              "      async function convertToInteractive(key) {\n",
              "        const element = document.querySelector('#df-a4ba0451-22a9-41cb-b1fb-1cdf6198cb82');\n",
              "        const dataTable =\n",
              "          await google.colab.kernel.invokeFunction('convertToInteractive',\n",
              "                                                    [key], {});\n",
              "        if (!dataTable) return;\n",
              "\n",
              "        const docLinkHtml = 'Like what you see? Visit the ' +\n",
              "          '<a target=\"_blank\" href=https://colab.research.google.com/notebooks/data_table.ipynb>data table notebook</a>'\n",
              "          + ' to learn more about interactive tables.';\n",
              "        element.innerHTML = '';\n",
              "        dataTable['output_type'] = 'display_data';\n",
              "        await google.colab.output.renderOutput(dataTable, element);\n",
              "        const docLink = document.createElement('div');\n",
              "        docLink.innerHTML = docLinkHtml;\n",
              "        element.appendChild(docLink);\n",
              "      }\n",
              "    </script>\n",
              "  </div>\n",
              "\n",
              "\n",
              "<div id=\"df-41144112-80ba-4c3d-9788-ceedb2b27115\">\n",
              "  <button class=\"colab-df-quickchart\" onclick=\"quickchart('df-41144112-80ba-4c3d-9788-ceedb2b27115')\"\n",
              "            title=\"Suggest charts\"\n",
              "            style=\"display:none;\">\n",
              "\n",
              "<svg xmlns=\"http://www.w3.org/2000/svg\" height=\"24px\"viewBox=\"0 0 24 24\"\n",
              "     width=\"24px\">\n",
              "    <g>\n",
              "        <path d=\"M19 3H5c-1.1 0-2 .9-2 2v14c0 1.1.9 2 2 2h14c1.1 0 2-.9 2-2V5c0-1.1-.9-2-2-2zM9 17H7v-7h2v7zm4 0h-2V7h2v10zm4 0h-2v-4h2v4z\"/>\n",
              "    </g>\n",
              "</svg>\n",
              "  </button>\n",
              "\n",
              "<style>\n",
              "  .colab-df-quickchart {\n",
              "      --bg-color: #E8F0FE;\n",
              "      --fill-color: #1967D2;\n",
              "      --hover-bg-color: #E2EBFA;\n",
              "      --hover-fill-color: #174EA6;\n",
              "      --disabled-fill-color: #AAA;\n",
              "      --disabled-bg-color: #DDD;\n",
              "  }\n",
              "\n",
              "  [theme=dark] .colab-df-quickchart {\n",
              "      --bg-color: #3B4455;\n",
              "      --fill-color: #D2E3FC;\n",
              "      --hover-bg-color: #434B5C;\n",
              "      --hover-fill-color: #FFFFFF;\n",
              "      --disabled-bg-color: #3B4455;\n",
              "      --disabled-fill-color: #666;\n",
              "  }\n",
              "\n",
              "  .colab-df-quickchart {\n",
              "    background-color: var(--bg-color);\n",
              "    border: none;\n",
              "    border-radius: 50%;\n",
              "    cursor: pointer;\n",
              "    display: none;\n",
              "    fill: var(--fill-color);\n",
              "    height: 32px;\n",
              "    padding: 0;\n",
              "    width: 32px;\n",
              "  }\n",
              "\n",
              "  .colab-df-quickchart:hover {\n",
              "    background-color: var(--hover-bg-color);\n",
              "    box-shadow: 0 1px 2px rgba(60, 64, 67, 0.3), 0 1px 3px 1px rgba(60, 64, 67, 0.15);\n",
              "    fill: var(--button-hover-fill-color);\n",
              "  }\n",
              "\n",
              "  .colab-df-quickchart-complete:disabled,\n",
              "  .colab-df-quickchart-complete:disabled:hover {\n",
              "    background-color: var(--disabled-bg-color);\n",
              "    fill: var(--disabled-fill-color);\n",
              "    box-shadow: none;\n",
              "  }\n",
              "\n",
              "  .colab-df-spinner {\n",
              "    border: 2px solid var(--fill-color);\n",
              "    border-color: transparent;\n",
              "    border-bottom-color: var(--fill-color);\n",
              "    animation:\n",
              "      spin 1s steps(1) infinite;\n",
              "  }\n",
              "\n",
              "  @keyframes spin {\n",
              "    0% {\n",
              "      border-color: transparent;\n",
              "      border-bottom-color: var(--fill-color);\n",
              "      border-left-color: var(--fill-color);\n",
              "    }\n",
              "    20% {\n",
              "      border-color: transparent;\n",
              "      border-left-color: var(--fill-color);\n",
              "      border-top-color: var(--fill-color);\n",
              "    }\n",
              "    30% {\n",
              "      border-color: transparent;\n",
              "      border-left-color: var(--fill-color);\n",
              "      border-top-color: var(--fill-color);\n",
              "      border-right-color: var(--fill-color);\n",
              "    }\n",
              "    40% {\n",
              "      border-color: transparent;\n",
              "      border-right-color: var(--fill-color);\n",
              "      border-top-color: var(--fill-color);\n",
              "    }\n",
              "    60% {\n",
              "      border-color: transparent;\n",
              "      border-right-color: var(--fill-color);\n",
              "    }\n",
              "    80% {\n",
              "      border-color: transparent;\n",
              "      border-right-color: var(--fill-color);\n",
              "      border-bottom-color: var(--fill-color);\n",
              "    }\n",
              "    90% {\n",
              "      border-color: transparent;\n",
              "      border-bottom-color: var(--fill-color);\n",
              "    }\n",
              "  }\n",
              "</style>\n",
              "\n",
              "  <script>\n",
              "    async function quickchart(key) {\n",
              "      const quickchartButtonEl =\n",
              "        document.querySelector('#' + key + ' button');\n",
              "      quickchartButtonEl.disabled = true;  // To prevent multiple clicks.\n",
              "      quickchartButtonEl.classList.add('colab-df-spinner');\n",
              "      try {\n",
              "        const charts = await google.colab.kernel.invokeFunction(\n",
              "            'suggestCharts', [key], {});\n",
              "      } catch (error) {\n",
              "        console.error('Error during call to suggestCharts:', error);\n",
              "      }\n",
              "      quickchartButtonEl.classList.remove('colab-df-spinner');\n",
              "      quickchartButtonEl.classList.add('colab-df-quickchart-complete');\n",
              "    }\n",
              "    (() => {\n",
              "      let quickchartButtonEl =\n",
              "        document.querySelector('#df-41144112-80ba-4c3d-9788-ceedb2b27115 button');\n",
              "      quickchartButtonEl.style.display =\n",
              "        google.colab.kernel.accessAllowed ? 'block' : 'none';\n",
              "    })();\n",
              "  </script>\n",
              "</div>\n",
              "\n",
              "  <div id=\"id_a7c843aa-11b3-4f11-b885-d0aeb5354302\">\n",
              "    <style>\n",
              "      .colab-df-generate {\n",
              "        background-color: #E8F0FE;\n",
              "        border: none;\n",
              "        border-radius: 50%;\n",
              "        cursor: pointer;\n",
              "        display: none;\n",
              "        fill: #1967D2;\n",
              "        height: 32px;\n",
              "        padding: 0 0 0 0;\n",
              "        width: 32px;\n",
              "      }\n",
              "\n",
              "      .colab-df-generate:hover {\n",
              "        background-color: #E2EBFA;\n",
              "        box-shadow: 0px 1px 2px rgba(60, 64, 67, 0.3), 0px 1px 3px 1px rgba(60, 64, 67, 0.15);\n",
              "        fill: #174EA6;\n",
              "      }\n",
              "\n",
              "      [theme=dark] .colab-df-generate {\n",
              "        background-color: #3B4455;\n",
              "        fill: #D2E3FC;\n",
              "      }\n",
              "\n",
              "      [theme=dark] .colab-df-generate:hover {\n",
              "        background-color: #434B5C;\n",
              "        box-shadow: 0px 1px 3px 1px rgba(0, 0, 0, 0.15);\n",
              "        filter: drop-shadow(0px 1px 2px rgba(0, 0, 0, 0.3));\n",
              "        fill: #FFFFFF;\n",
              "      }\n",
              "    </style>\n",
              "    <button class=\"colab-df-generate\" onclick=\"generateWithVariable('data')\"\n",
              "            title=\"Generate code using this dataframe.\"\n",
              "            style=\"display:none;\">\n",
              "\n",
              "  <svg xmlns=\"http://www.w3.org/2000/svg\" height=\"24px\"viewBox=\"0 0 24 24\"\n",
              "       width=\"24px\">\n",
              "    <path d=\"M7,19H8.4L18.45,9,17,7.55,7,17.6ZM5,21V16.75L18.45,3.32a2,2,0,0,1,2.83,0l1.4,1.43a1.91,1.91,0,0,1,.58,1.4,1.91,1.91,0,0,1-.58,1.4L9.25,21ZM18.45,9,17,7.55Zm-12,3A5.31,5.31,0,0,0,4.9,8.1,5.31,5.31,0,0,0,1,6.5,5.31,5.31,0,0,0,4.9,4.9,5.31,5.31,0,0,0,6.5,1,5.31,5.31,0,0,0,8.1,4.9,5.31,5.31,0,0,0,12,6.5,5.46,5.46,0,0,0,6.5,12Z\"/>\n",
              "  </svg>\n",
              "    </button>\n",
              "    <script>\n",
              "      (() => {\n",
              "      const buttonEl =\n",
              "        document.querySelector('#id_a7c843aa-11b3-4f11-b885-d0aeb5354302 button.colab-df-generate');\n",
              "      buttonEl.style.display =\n",
              "        google.colab.kernel.accessAllowed ? 'block' : 'none';\n",
              "\n",
              "      buttonEl.onclick = () => {\n",
              "        google.colab.notebook.generateWithVariable('data');\n",
              "      }\n",
              "      })();\n",
              "    </script>\n",
              "  </div>\n",
              "\n",
              "    </div>\n",
              "  </div>\n"
            ],
            "application/vnd.google.colaboratory.intrinsic+json": {
              "type": "dataframe",
              "variable_name": "data",
              "summary": "{\n  \"name\": \"data\",\n  \"rows\": 2160,\n  \"fields\": [\n    {\n      \"column\": \"ram\",\n      \"properties\": {\n        \"dtype\": \"number\",\n        \"std\": 9,\n        \"min\": 4,\n        \"max\": 128,\n        \"num_unique_values\": 9,\n        \"samples\": [\n          6,\n          16,\n          64\n        ],\n        \"semantic_type\": \"\",\n        \"description\": \"\"\n      }\n    },\n    {\n      \"column\": \"storage\",\n      \"properties\": {\n        \"dtype\": \"number\",\n        \"std\": 361,\n        \"min\": 0,\n        \"max\": 4000,\n        \"num_unique_values\": 12,\n        \"samples\": [\n          3000,\n          4000,\n          512\n        ],\n        \"semantic_type\": \"\",\n        \"description\": \"\"\n      }\n    },\n    {\n      \"column\": \"screen\",\n      \"properties\": {\n        \"dtype\": \"number\",\n        \"std\": 1.203328758328451,\n        \"min\": 10.1,\n        \"max\": 18.0,\n        \"num_unique_values\": 29,\n        \"samples\": [\n          12.0,\n          16.2,\n          18.0\n        ],\n        \"semantic_type\": \"\",\n        \"description\": \"\"\n      }\n    },\n    {\n      \"column\": \"final_price\",\n      \"properties\": {\n        \"dtype\": \"number\",\n        \"std\": 911.4754170328499,\n        \"min\": 201.05,\n        \"max\": 7150.47,\n        \"num_unique_values\": 1440,\n        \"samples\": [\n          3599.0,\n          1799.9,\n          711.95\n        ],\n        \"semantic_type\": \"\",\n        \"description\": \"\"\n      }\n    }\n  ]\n}"
            }
          },
          "metadata": {},
          "execution_count": 5
        }
      ],
      "source": [
        "# Extracting the columns 'ram', 'storage', 'screen', 'final_price'\n",
        "base = ['ram', 'storage', 'screen', 'final_price']\n",
        "data = df[base]\n",
        "data"
      ]
    },
    {
      "cell_type": "code",
      "execution_count": null,
      "metadata": {
        "colab": {
          "base_uri": "https://localhost:8080/",
          "height": 489
        },
        "id": "0gjw0Hf_0y1H",
        "outputId": "46aa4f60-bbd9-4383-de22-b910ac50f2d5"
      },
      "outputs": [
        {
          "output_type": "execute_result",
          "data": {
            "text/plain": [
              "Text(0.5, 1.0, 'Distribution of prices')"
            ]
          },
          "metadata": {},
          "execution_count": 6
        },
        {
          "output_type": "display_data",
          "data": {
            "text/plain": [
              "<Figure size 640x480 with 1 Axes>"
            ],
            "image/png": "[encoded data removed]"
          },
          "metadata": {}
        }
      ],
      "source": [
        "# Looking at the final_price variable. Does it have a long tail?\n",
        "# Yes. this is a long-tailed distribution\n",
        "sns.histplot(df.final_price, bins=50)\n",
        "\n",
        "plt.ylabel('Frequency')\n",
        "plt.xlabel('Price')\n",
        "plt.title('Distribution of prices')"
      ]
    },
    {
      "cell_type": "code",
      "execution_count": null,
      "metadata": {
        "colab": {
          "base_uri": "https://localhost:8080/",
          "height": 489
        },
        "id": "cdUUotSS9qAD",
        "outputId": "418031d1-44ff-4402-fe16-68897a8a2832"
      },
      "outputs": [
        {
          "output_type": "execute_result",
          "data": {
            "text/plain": [
              "Text(0.5, 1.0, 'Distribution of log+1 of prices')"
            ]
          },
          "metadata": {},
          "execution_count": 7
        },
        {
          "output_type": "display_data",
          "data": {
            "text/plain": [
              "<Figure size 640x480 with 1 Axes>"
            ],
            "image/png": "[encoded data removed]"
          },
          "metadata": {}
        }
      ],
      "source": [
        "# Normalization long tail\n",
        "Y = np.log1p(data.final_price.values)\n",
        "sns.histplot(Y, bins=10)\n",
        "plt.ylabel('Frequency')\n",
        "plt.xlabel('Price')\n",
        "plt.title('Distribution of log+1 of prices')"
      ]
    },
    {
      "cell_type": "markdown",
      "metadata": {
        "id": "p-hqgner1aRn"
      },
      "source": [
        "## Question 1\n",
        "There's one column with missing values. What is it?"
      ]
    },
    {
      "cell_type": "code",
      "execution_count": null,
      "metadata": {
        "colab": {
          "base_uri": "https://localhost:8080/",
          "height": 209
        },
        "id": "ba0fmIYr1Suw",
        "outputId": "ff1b56ad-84d5-4400-c8c0-a39789776038"
      },
      "outputs": [
        {
          "output_type": "execute_result",
          "data": {
            "text/plain": [
              "ram            0\n",
              "storage        0\n",
              "screen         4\n",
              "final_price    0\n",
              "dtype: int64"
            ],
            "text/html": [
              "<div>\n",
              "<style scoped>\n",
              "    .dataframe tbody tr th:only-of-type {\n",
              "        vertical-align: middle;\n",
              "    }\n",
              "\n",
              "    .dataframe tbody tr th {\n",
              "        vertical-align: top;\n",
              "    }\n",
              "\n",
              "    .dataframe thead th {\n",
              "        text-align: right;\n",
              "    }\n",
              "</style>\n",
              "<table border=\"1\" class=\"dataframe\">\n",
              "  <thead>\n",
              "    <tr style=\"text-align: right;\">\n",
              "      <th></th>\n",
              "      <th>0</th>\n",
              "    </tr>\n",
              "  </thead>\n",
              "  <tbody>\n",
              "    <tr>\n",
              "      <th>ram</th>\n",
              "      <td>0</td>\n",
              "    </tr>\n",
              "    <tr>\n",
              "      <th>storage</th>\n",
              "      <td>0</td>\n",
              "    </tr>\n",
              "    <tr>\n",
              "      <th>screen</th>\n",
              "      <td>4</td>\n",
              "    </tr>\n",
              "    <tr>\n",
              "      <th>final_price</th>\n",
              "      <td>0</td>\n",
              "    </tr>\n",
              "  </tbody>\n",
              "</table>\n",
              "</div><br><label><b>dtype:</b> int64</label>"
            ]
          },
          "metadata": {},
          "execution_count": 8
        }
      ],
      "source": [
        "data.isnull().sum()\n",
        "\n",
        "# the column 'screen' has null values"
      ]
    },
    {
      "cell_type": "markdown",
      "metadata": {
        "id": "lTYWw7Ws1r1I"
      },
      "source": [
        "## Question 2\n",
        "What's the median (50% percentile) for variable ```'ram'```"
      ]
    },
    {
      "cell_type": "code",
      "execution_count": null,
      "metadata": {
        "colab": {
          "base_uri": "https://localhost:8080/"
        },
        "id": "1FNdyABr1xmI",
        "outputId": "d845768d-64e7-45b6-a3f4-3e3fd0f00ecf"
      },
      "outputs": [
        {
          "output_type": "execute_result",
          "data": {
            "text/plain": [
              "16.0"
            ]
          },
          "metadata": {},
          "execution_count": 9
        }
      ],
      "source": [
        "data['ram'].median()\n"
      ]
    },
    {
      "cell_type": "markdown",
      "metadata": {
        "id": "SODie4tS3GDo"
      },
      "source": [
        "## Prepare and split the dataset\n",
        "*   Shuffle the dataset (the filtered one you created above), use seed 42.\n",
        "*   Split your data in train/val/test sets, with 60%/20%/20% distribution.\n",
        "\n",
        "Use the same code as in the lectures"
      ]
    },
    {
      "cell_type": "code",
      "execution_count": null,
      "metadata": {
        "id": "4SGsmAUk3MyK"
      },
      "outputs": [],
      "source": [
        "# Shuffle the dataset\n",
        "np.random.seed(42)\n",
        "idx = np.arange(len(data))\n",
        "np.random.shuffle(idx)\n",
        "\n",
        "# Split the data\n",
        "n = len(data)\n",
        "n_val = int(0.2 * n)\n",
        "n_test = int(0.2 * n)\n",
        "n_train = n - n_val - n_test\n",
        "\n",
        "df_train = data.iloc[idx[:n_train]]\n",
        "df_val = data.iloc[idx[n_train:n_train + n_val]]\n",
        "df_test = data.iloc[idx[n_train + n_val:]]"
      ]
    },
    {
      "cell_type": "markdown",
      "metadata": {
        "id": "7hyVjv4y66PA"
      },
      "source": [
        "## Question 3\n",
        "*   We need to deal with missing values for the column from Q1.\n",
        "* We have two options: fill it with 0 or with the mean of this variable.\n",
        "* Try both options. For each, train a linear regression model without regularization using the code from the lessons.\n",
        "* For computing the mean, use the **training** only!\n",
        "* Use the validation dataset to evaluate the models and compare the RMSE of each option.\n",
        "* Round the RMSE scores to 2 decimal digits using round(score, 2)\n",
        "Which option gives better RMSE?"
      ]
    },
    {
      "cell_type": "code",
      "execution_count": null,
      "metadata": {
        "id": "on-nhHSq66AY"
      },
      "outputs": [],
      "source": [
        "# # defining required functions:\n",
        "# #  training a linear regression function\n",
        "\n",
        "# def train_linear_regression(X, y):\n",
        "#     ones = np.ones(X.shape[0])\n",
        "#     X = np.column_stack([ones, X])\n",
        "\n",
        "#     XTX = X.T.dot(X)\n",
        "#     XTX_inv = np.linalg.inv(XTX)\n",
        "#     w = XTX_inv.dot(X.T).dot(y)\n",
        "\n",
        "#     return w[0], w[1:]\n",
        "\n",
        "# # RMSE function\n",
        "\n",
        "# def rmse(y, y_pred):\n",
        "#     MSE = ((y_pred - y) ** 2).mean()\n",
        "#     return np.sqrt(MSE)"
      ]
    },
    {
      "cell_type": "code",
      "execution_count": null,
      "metadata": {
        "id": "zt0UMy67ETh6"
      },
      "outputs": [],
      "source": [
        "# filling_vlaues = [0,  X_train.screen.mean() ]\n",
        "# for val in filling_vlaues:\n",
        "#   X_train_clean = X_train.copy()\n",
        "#   X_train_clean = X_train_clean.fillna(val)\n",
        "\n",
        "#   # train linear regression with cleaned data(using mean values and zero)\n",
        "#   w_0, w = train_linear_regression(X_train_clean, y_train) #trining the data\n",
        "\n",
        "#   # finding predicted y\n",
        "#   y_pred =  w_0 + X_val.dot(w)\n",
        "\n",
        "#   # RMSE for this dataset\n",
        "#   RMSE = rmse(y_val, y_pred).round(2)\n",
        "\n",
        "#   #printing the result in the required format\n",
        "#   print('RMSE when we used %2d to clean X is %.2f'%(val, RMSE))"
      ]
    },
    {
      "cell_type": "code",
      "source": [
        "def train_linear_regression(X, y):\n",
        "    ones = np.ones(X.shape[0])\n",
        "    X = np.column_stack([ones, X])\n",
        "\n",
        "    XTX = X.T.dot(X)\n",
        "    XTX_inv = np.linalg.inv(XTX)\n",
        "    w = XTX_inv.dot(X.T).dot(y)\n",
        "\n",
        "    return w[0], w[1:]\n",
        "\n",
        "def rmse(y, y_pred):\n",
        "    error = y_pred - y\n",
        "    mse = (error ** 2).mean()\n",
        "    return np.sqrt(mse)\n",
        "\n",
        "# Option 1: Fill missing values with 0\n",
        "X_train = df_train.fillna(0).drop(columns=['final_price']).values\n",
        "y_train = df_train['final_price'].values\n",
        "X_val = df_val.fillna(0).drop(columns=['final_price']).values\n",
        "y_val = df_val['final_price'].values\n",
        "w0, w = train_linear_regression(X_train, y_train)\n",
        "y_pred = w0 + X_val.dot(w)\n",
        "rmse_option1 = round(rmse(y_val, y_pred), 2)\n",
        "\n",
        "# Option 2: Fill missing values with the mean\n",
        "X_train = df_train.fillna(df_train.mean()).drop(columns=['final_price']).values\n",
        "y_train = df_train['final_price'].values\n",
        "X_val = df_val.fillna(df_train.mean()).drop(columns=['final_price']).values\n",
        "y_val = df_val['final_price'].values\n",
        "w0, w = train_linear_regression(X_train, y_train)\n",
        "y_pred = w0 + X_val.dot(w)\n",
        "rmse_option2 = round(rmse(y_val, y_pred), 2)\n",
        "\n",
        "print(f\"RMSE (Option 1): {rmse_option1}\")\n",
        "print(f\"RMSE (Option 2): {rmse_option2}\")"
      ],
      "metadata": {
        "colab": {
          "base_uri": "https://localhost:8080/"
        },
        "id": "h2UGIyouXT_x",
        "outputId": "6091be4e-cc9d-4dec-adf1-7b40eb17dccd"
      },
      "execution_count": null,
      "outputs": [
        {
          "output_type": "stream",
          "name": "stdout",
          "text": [
            "RMSE (Option 1): 597.36\n",
            "RMSE (Option 2): 600.27\n"
          ]
        }
      ]
    },
    {
      "cell_type": "code",
      "execution_count": null,
      "metadata": {
        "colab": {
          "base_uri": "https://localhost:8080/",
          "height": 410
        },
        "id": "fhldAk-TLdO6",
        "outputId": "391e8709-625e-4559-c735-c3e06060b36a"
      },
      "outputs": [
        {
          "output_type": "display_data",
          "data": {
            "text/plain": [
              "<Figure size 600x400 with 1 Axes>"
            ],
            "image/png": "[encoded data removed]"
          },
          "metadata": {}
        }
      ],
      "source": [
        "plt.figure(figsize=(6, 4))\n",
        "\n",
        "\n",
        "sns.histplot(y_val, label='target', color='red', alpha=0.6, bins=30)\n",
        "sns.histplot(y_pred, label='prediction', color='blue', alpha=0.8, bins=30)\n",
        "\n",
        "plt.legend()\n",
        "\n",
        "plt.ylabel('Frequency')\n",
        "plt.xlabel('Log(Price + 1)')\n",
        "plt.title('Predictions and Actual distribution')\n",
        "\n",
        "plt.show()"
      ]
    },
    {
      "cell_type": "markdown",
      "metadata": {
        "id": "BQfadzDFL2-i"
      },
      "source": [
        "As we see, we should do better in training the model and engineering the features, but the predictions are not very bad. They are not biased"
      ]
    },
    {
      "cell_type": "markdown",
      "metadata": {
        "id": "8rSKxydxKvAi"
      },
      "source": [
        "## Question 4\n",
        "* Now let's train a regularized linear regression.\n",
        "* For this question, fill the NAs with ```0```.\n",
        "* Try different values of r from this list: ```[0, 0.01, 0.1, 1, 5, 10, 100].```\n",
        "* Use RMSE to evaluate the model on the validation dataset.\n",
        "* Round the RMSE scores to 2 decimal digits.\n",
        "Which ```r``` gives the best RMSE?"
      ]
    },
    {
      "cell_type": "code",
      "execution_count": null,
      "metadata": {
        "id": "bWL1RRsnK_za"
      },
      "outputs": [],
      "source": [
        "# defining required functions:\n",
        "#=====================================================================\n",
        "#  training a Regularized linear regression function\n",
        "#=====================================================================\n",
        "\n",
        "# def train_regularized_linear_regression(X, y, r=0):\n",
        "#     '''\n",
        "#     Simple Linear regression function with completely cleaned data\n",
        "#     and regularization (adding small values to diagonal elements of\n",
        "#     data so that the reversed matrix exist and has finite small values)\n",
        "#     '''\n",
        "#     ones = np.ones(X.shape[0])\n",
        "#     X = np.column_stack([ones, X])\n",
        "\n",
        "#     XTX = X.T.dot(X)\n",
        "#     reg = r * np.eye(XTX.shape[0])\n",
        "#     XTX = XTX + reg\n",
        "\n",
        "#     XTX_inv = np.linalg.inv(XTX)\n",
        "#     w = XTX_inv.dot(X.T).dot(y)\n",
        "\n",
        "#     return w[0], w[1:]"
      ]
    },
    {
      "cell_type": "code",
      "execution_count": null,
      "metadata": {
        "colab": {
          "base_uri": "https://localhost:8080/"
        },
        "id": "28zowNKkEuru",
        "outputId": "7f5fb46e-4184-470b-e513-f7da8de90670"
      },
      "outputs": [
        {
          "output_type": "stream",
          "name": "stdout",
          "text": [
            "The best r is 10, with RMSE = 597.06\n"
          ]
        }
      ],
      "source": [
        "import numpy as np\n",
        "\n",
        "# Defining the train_regularized_linear_regression function (from your previous code)\n",
        "def train_linear_regression_reg(X, y, r=0.0):\n",
        "    ones = np.ones(X.shape[0])\n",
        "    X = np.column_stack([ones, X])\n",
        "\n",
        "    XTX = X.T.dot(X)\n",
        "    XTX = XTX + r * np.eye(XTX.shape[0])\n",
        "\n",
        "    XTX_inv = np.linalg.inv(XTX)\n",
        "    w = XTX_inv.dot(X.T).dot(y)\n",
        "\n",
        "    return w[0], w[1:]\n",
        "\n",
        "X_train = df_train.fillna(0).drop(columns=['final_price']).values\n",
        "y_train = df_train['final_price'].values\n",
        "X_val = df_val.fillna(0).drop(columns=['final_price']).values\n",
        "y_val = df_val['final_price'].values\n",
        "\n",
        "best_rmse = float('inf')\n",
        "best_r = None\n",
        "\n",
        "for r in [0, 0.01, 0.1, 1, 10, 100]:  # Use the specified values of r\n",
        "    w0, w = train_linear_regression_reg(X_train, y_train, r=r)\n",
        "    y_pred = w0 + X_val.dot(w)\n",
        "    rmse_val = rmse(y_val, y_pred)\n",
        "\n",
        "    if rmse_val < best_rmse:\n",
        "        best_rmse = rmse_val\n",
        "        best_r = r\n",
        "\n",
        "print(f'The best r is {best_r}, with RMSE = {round(best_rmse,2)}')"
      ]
    },
    {
      "cell_type": "markdown",
      "metadata": {
        "id": "hVkPPbaWqBY3"
      },
      "source": [
        "## Question 5\n",
        "We used seed 42 for splitting the data. Let's find out how selecting the seed influences our score.\n",
        "* Try different seed values: ```[0, 1, 2, 3, 4, 5, 6, 7, 8, 9].```\n",
        "* For each seed, do the train/validation/test split with 60%/20%/20% distribution.\n",
        "* Fill the missing values with 0 and train a model without regularization.\n",
        "* For each seed, evaluate the model on the validation dataset and collect the RMSE scores.\n",
        "* What's the standard deviation of all the scores? To compute the standard deviation, use np.std.\n",
        "* Round the result to 3 decimal digits ```(round(std, 3))```\n",
        "What's the value of std?"
      ]
    },
    {
      "cell_type": "code",
      "execution_count": null,
      "metadata": {
        "colab": {
          "base_uri": "https://localhost:8080/"
        },
        "id": "Mi1QDk9XiluU",
        "outputId": "bfc310e2-a1e2-44d3-f582-e16189cb92cc"
      },
      "outputs": [
        {
          "output_type": "stream",
          "name": "stdout",
          "text": [
            "Standard deviation of RMSE scores: 29.176\n"
          ]
        }
      ],
      "source": [
        "#=====================================================================\n",
        "#  Data Preparation\n",
        "#=====================================================================\n",
        "# Shuffle the dataset (the filtered one you created above), use\n",
        "# a list of seeds.\n",
        "rmses = []\n",
        "\n",
        "for seed in [0, 1, 2, 3, 4, 5, 6, 7, 8, 9]:\n",
        "    np.random.seed(seed)\n",
        "    idx = np.arange(len(data))\n",
        "    np.random.shuffle(idx)\n",
        "\n",
        "    n = len(data)\n",
        "    n_val = int(0.2 * n)\n",
        "    n_test = int(0.2 * n)\n",
        "    n_train = n - n_val - n_test\n",
        "\n",
        "    df_train = data.iloc[idx[:n_train]]\n",
        "    df_val = data.iloc[idx[n_train:n_train + n_val]]\n",
        "    df_test = data.iloc[idx[n_train + n_val:]]\n",
        "\n",
        "    X_train = df_train.fillna(0).drop(columns=['final_price']).values\n",
        "    y_train = df_train['final_price'].values\n",
        "    X_val = df_val.fillna(0).drop(columns=['final_price']).values\n",
        "    y_val = df_val['final_price'].values\n",
        "\n",
        "    w0, w = train_linear_regression(X_train, y_train)\n",
        "    y_pred = w0 + X_val.dot(w)\n",
        "    rmse_val = rmse(y_val, y_pred)\n",
        "    rmses.append(rmse_val)\n",
        "\n",
        "std_rmse = round(np.std(rmses), 3)  # Calculate and round standard deviation\n",
        "print(f\"Standard deviation of RMSE scores: {std_rmse}\")"
      ]
    },
    {
      "cell_type": "markdown",
      "metadata": {
        "id": "9VrNHOdB3_uX"
      },
      "source": [
        "##Question 6\n",
        "* Split the dataset like previously, use seed 9.\n",
        "* Combine train and validation datasets.\n",
        "* Fill the missing values with 0 and train a model with r=0.001.\n",
        "* What's the RMSE on the test dataset?"
      ]
    },
    {
      "cell_type": "code",
      "execution_count": null,
      "metadata": {
        "colab": {
          "base_uri": "https://localhost:8080/"
        },
        "id": "_3qC9HF37moo",
        "outputId": "49a94cb2-e507-4d35-ce55-ef2baa8442b0"
      },
      "outputs": [
        {
          "output_type": "stream",
          "name": "stdout",
          "text": [
            "RMSE on the test dataset: 608.6100\n"
          ]
        }
      ],
      "source": [
        "\n",
        "# Assuming 'data' is your DataFrame containing the dataset\n",
        "\n",
        "# Splitting the dataset with seed 9\n",
        "np.random.seed(9)\n",
        "idx = np.arange(len(data))\n",
        "np.random.shuffle(idx)\n",
        "\n",
        "n = len(data)\n",
        "n_val = int(0.2 * n)\n",
        "n_test = int(0.2 * n)\n",
        "n_train = n - n_val - n_test\n",
        "\n",
        "df_train = data.iloc[idx[:n_train]]\n",
        "df_val = data.iloc[idx[n_train:n_train + n_val]]\n",
        "df_test = data.iloc[idx[n_train + n_val:]]\n",
        "\n",
        "# Combine train and validation sets\n",
        "df_train_full = pd.concat([df_train, df_val])\n",
        "\n",
        "# Prepare data\n",
        "X_train_full = df_train_full.fillna(0).drop(columns=['final_price']).values\n",
        "y_train_full = df_train_full['final_price'].values\n",
        "X_test = df_test.fillna(0).drop(columns=['final_price']).values\n",
        "y_test = df_test['final_price'].values\n",
        "\n",
        "# Train model with regularization (r=0.001)\n",
        "w0, w = train_linear_regression_reg(X_train_full, y_train_full, r=0.001)\n",
        "\n",
        "# Predict on test set and calculate RMSE\n",
        "y_pred = w0 + X_test.dot(w)\n",
        "rmse_test = rmse(y_test, y_pred)\n",
        "\n",
        "print(f\"RMSE on the test dataset: {rmse_test:.4f}\")"
      ]
    }
  ],
  "metadata": {
    "colab": {
      "provenance": [],
      "include_colab_link": true
    },
    "kernelspec": {
      "display_name": "Python 3",
      "name": "python3"
    },
    "language_info": {
      "name": "python"
    }
  },
  "nbformat": 4,
  "nbformat_minor": 0
}